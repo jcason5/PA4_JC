{
 "cells": [
  {
   "cell_type": "markdown",
   "id": "cfee1619",
   "metadata": {},
   "source": [
    "### John Cason\n",
    "### PA4\n",
    "### Version 4\n",
    "### Fall 2023"
   ]
  },
  {
   "cell_type": "markdown",
   "id": "a48d2dbd",
   "metadata": {},
   "source": [
    "### Task 1: Grade Calculator\n",
    "* Create a list named grades containing five numerical grades (0-100).\n",
    "* Calculate the average grade from the list.\n",
    "* Use an if-else condition to determine the letter grade based on the average as follows:\n",
    "    * 90-100: \"A\"\n",
    "    * 80-89: \"B\"\n",
    "    * 70-79: \"C\"\n",
    "    * 60-69: \"D\"\n",
    "    * Below 60: \"F\"\n",
    "* Print the average grade and corresponding letter grade."
   ]
  },
  {
   "cell_type": "code",
   "execution_count": 18,
   "id": "a4ffc89c",
   "metadata": {},
   "outputs": [
    {
     "name": "stdout",
     "output_type": "stream",
     "text": [
      "Average grade is a 78 C\n"
     ]
    }
   ],
   "source": [
    "grades=[85,40,92,73,100]\n",
    "avg_grades=78\n",
    "if avg_grades>=90 and avg_grades<100:\n",
    "    print(f\"Average grade is a {avg_grades} A\")\n",
    "elif avg_grades<90 and avg_grades>=80:\n",
    "    print(f\"Average grade is a {avg_grades} B\")\n",
    "elif avg_grades<80 and avg_grades>=70:\n",
    "    print(f\"Average grade is a {avg_grades} C\")\n",
    "elif avg_grades<70 and avg_grades>=60:\n",
    "    print(f\"Average grade is a {avg_grades} D\")\n",
    "else:\n",
    "    print(f\"Average grade is a {avg_grades} F\")"
   ]
  },
  {
   "cell_type": "markdown",
   "id": "37065da4",
   "metadata": {},
   "source": [
    "### Task 2: Tuple Unpacking\n",
    "* Create a tuple named student with your first name, last name, age, and a subject (in that\n",
    "order).\n",
    "* Use tuple unpacking and an if-else condition to check if the student's age is above 18.\n",
    "* If the age is above 18, print a message indicating that the student is an adult, otherwise print\n",
    "* message indicating that the student is a minor."
   ]
  },
  {
   "cell_type": "code",
   "execution_count": 21,
   "id": "771b757f",
   "metadata": {},
   "outputs": [],
   "source": [
    "student=('John','Cason', 22, 'Accounting')"
   ]
  },
  {
   "cell_type": "code",
   "execution_count": 28,
   "id": "ebddf3d0",
   "metadata": {},
   "outputs": [
    {
     "name": "stdout",
     "output_type": "stream",
     "text": [
      "The student is a minor\n"
     ]
    }
   ],
   "source": [
    "if student[2]>22:\n",
    "    print(\"The student is an adult\")\n",
    "else:\n",
    "    print(\"The student is a minor\")"
   ]
  },
  {
   "cell_type": "markdown",
   "id": "1b07ce3e",
   "metadata": {},
   "source": [
    "### Task 3: Month and date\n",
    "* Write a Python program that will accept a number from 1 to 12 and display the name of the month and days in the month. Consider that the year is a regular year."
   ]
  },
  {
   "cell_type": "code",
   "execution_count": 32,
   "id": "a8b09959",
   "metadata": {},
   "outputs": [
    {
     "name": "stdout",
     "output_type": "stream",
     "text": [
      "Type a number 1-12: 10\n",
      "October, 31 days\n"
     ]
    }
   ],
   "source": [
    "number=int(input(\"Type a number 1-12: \"))\n",
    "if number==1:\n",
    "    print(\"January, 31 days\")\n",
    "elif number==2:\n",
    "    print(\"February, 28 days\")\n",
    "elif number==3:\n",
    "    print(\"March, 31 days\")\n",
    "elif number==4:\n",
    "    print(\"April, 30 days\")\n",
    "elif number==5:\n",
    "    print(\"May, 31 days\")\n",
    "elif number==6:\n",
    "    print(\"June, 30 days\")\n",
    "elif number==7:\n",
    "    print(\"July, 31 days\")\n",
    "elif number==8:\n",
    "    print(\"August, 31 days\")\n",
    "elif number==9:\n",
    "    print(\"September, 30 days\")\n",
    "elif number==10:\n",
    "    print(\"October, 31 days\")\n",
    "elif number==11:\n",
    "    print(\"November, 30 days\")\n",
    "elif number==12:\n",
    "    print(\"December, 31 days\")\n",
    "else:\n",
    "    print(\"Invalid input\")"
   ]
  },
  {
   "cell_type": "markdown",
   "id": "1848d032",
   "metadata": {},
   "source": [
    "### Task 4: Triangle\n",
    "* Accept three sides of a triangle and check whether it is an equilateral, isosceles, or scalene triangle."
   ]
  },
  {
   "cell_type": "code",
   "execution_count": 63,
   "id": "80ae9c89",
   "metadata": {},
   "outputs": [
    {
     "name": "stdout",
     "output_type": "stream",
     "text": [
      "Measurement 1: 12\n",
      "Measurement 2: 11\n",
      "Measurement 3: 10\n",
      "This is a scalene triangle\n"
     ]
    }
   ],
   "source": [
    "side1=int(input(\"Measurement 1: \"))\n",
    "side2=int(input(\"Measurement 2: \"))\n",
    "side3=int(input(\"Measurement 3: \"))\n",
    "if side1==side2 and side1==side3 and side2==side3:\n",
    "    print(\"This is an equilateral triangle\")\n",
    "elif side1==side2 or side1==side3 or side2==side3:\n",
    "    print(\"This is an Isosceles triangle\")\n",
    "else:\n",
    "    print(\"This is a scalene triangle\")"
   ]
  },
  {
   "cell_type": "markdown",
   "id": "741a9c12",
   "metadata": {},
   "source": [
    "### Task 5: List Comprehension and Filtering\n",
    "* Create a list of named numbers containing integers from 21 to 40.\n",
    "* Use list comprehension to create a new list named even_squares containing the squares of even numbers from numbers.\n",
    "* Use list comprehension to create a new list named odd_cubes containing the cubes of odd numbers from numbers"
   ]
  },
  {
   "cell_type": "code",
   "execution_count": 48,
   "id": "c704e34e",
   "metadata": {},
   "outputs": [
    {
     "name": "stdout",
     "output_type": "stream",
     "text": [
      "[21, 22, 23, 24, 25, 26, 27, 28, 29, 30, 31, 32, 33, 34, 35, 36, 37, 38, 39, 40]\n"
     ]
    }
   ],
   "source": [
    "numbers = [ x for x in range(21,41)]\n",
    "print(numbers)"
   ]
  },
  {
   "cell_type": "code",
   "execution_count": 67,
   "id": "05bbab9b",
   "metadata": {},
   "outputs": [
    {
     "name": "stdout",
     "output_type": "stream",
     "text": [
      "[484, 576, 676, 784, 900, 1024, 1156, 1296, 1444]\n"
     ]
    }
   ],
   "source": [
    "even_squares=[ x**2 for x in range(21,40) if x % 2 == 0]\n",
    "print(even_squares)"
   ]
  },
  {
   "cell_type": "code",
   "execution_count": 68,
   "id": "2f64f129",
   "metadata": {},
   "outputs": [
    {
     "name": "stdout",
     "output_type": "stream",
     "text": [
      "[9261, 12167, 15625, 19683, 24389, 29791, 35937, 42875, 50653, 59319]\n"
     ]
    }
   ],
   "source": [
    "odd_cubes=[ x**3 for x in range(21,40) if x % 2 == 1]\n",
    "print(odd_cubes)"
   ]
  },
  {
   "cell_type": "code",
   "execution_count": null,
   "id": "4fee0d3d",
   "metadata": {},
   "outputs": [],
   "source": []
  }
 ],
 "metadata": {
  "kernelspec": {
   "display_name": "Python 3 (ipykernel)",
   "language": "python",
   "name": "python3"
  },
  "language_info": {
   "codemirror_mode": {
    "name": "ipython",
    "version": 3
   },
   "file_extension": ".py",
   "mimetype": "text/x-python",
   "name": "python",
   "nbconvert_exporter": "python",
   "pygments_lexer": "ipython3",
   "version": "3.11.4"
  }
 },
 "nbformat": 4,
 "nbformat_minor": 5
}
